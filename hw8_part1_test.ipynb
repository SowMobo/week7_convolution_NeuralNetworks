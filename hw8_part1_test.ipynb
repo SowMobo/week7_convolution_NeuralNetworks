{
 "cells": [
  {
   "cell_type": "markdown",
   "metadata": {},
   "source": [
    "# Importing dependencies"
   ]
  },
  {
   "cell_type": "code",
   "execution_count": 1,
   "metadata": {},
   "outputs": [],
   "source": [
    "import numpy as np\n",
    "from code_for_hw8_oop import *"
   ]
  },
  {
   "cell_type": "markdown",
   "metadata": {},
   "source": [
    "# Test of Mini-batch Gradient Descent and Batch Normalization modules"
   ]
  },
  {
   "cell_type": "code",
   "execution_count": 2,
   "metadata": {},
   "outputs": [
    {
     "data": {
      "text/plain": [
       "[[[1.225672272100094, 0.2900450191168543, 0.7138921019031682],\n",
       "  [1.5687480534814844, 1.3265406374656117, -0.6740717489861606],\n",
       "  [-0.0022111117338457246, 0.0006480791993651077, 0.002131705233576176]],\n",
       " [[0.47568400277696193, -0.01453632411908357],\n",
       "  [-0.09745345797269431, 0.2749191817272159],\n",
       "  [0.07922378452990443, 0.8435650107752781],\n",
       "  [-0.002860616304933428, 0.002860616304933428]]]"
      ]
     },
     "execution_count": 2,
     "metadata": {},
     "output_type": "execute_result"
    }
   ],
   "source": [
    "mini_gd_test()"
   ]
  },
  {
   "cell_type": "code",
   "execution_count": 3,
   "metadata": {},
   "outputs": [
    {
     "data": {
      "text/plain": [
       "[[[-3.3306690738754695e-18],\n",
       "  [3.608224830031759e-18],\n",
       "  [1.2501333183052308],\n",
       "  [0.2801939334736841]],\n",
       " [[11.643228500783309],\n",
       "  [3.430158795841475],\n",
       "  [0.519657182039827],\n",
       "  [1.0232290061329292]],\n",
       " [[-0.9999999999999988, 1.0000000000000013], [-1.0, 1.0]]]"
      ]
     },
     "execution_count": 3,
     "metadata": {},
     "output_type": "execute_result"
    }
   ],
   "source": [
    "batch_norm_test()"
   ]
  },
  {
   "cell_type": "code",
   "execution_count": null,
   "metadata": {},
   "outputs": [],
   "source": []
  }
 ],
 "metadata": {
  "interpreter": {
   "hash": "721b3dfdc5f3e7075511221a46e0416d46da308c711b10699e242c933ed8c7da"
  },
  "kernelspec": {
   "display_name": "Python 3.7.11 ('cnn')",
   "language": "python",
   "name": "python3"
  },
  "language_info": {
   "codemirror_mode": {
    "name": "ipython",
    "version": 3
   },
   "file_extension": ".py",
   "mimetype": "text/x-python",
   "name": "python",
   "nbconvert_exporter": "python",
   "pygments_lexer": "ipython3",
   "version": "3.7.11"
  },
  "orig_nbformat": 4
 },
 "nbformat": 4,
 "nbformat_minor": 2
}
